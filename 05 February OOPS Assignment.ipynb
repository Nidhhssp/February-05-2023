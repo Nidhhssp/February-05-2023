{
 "cells": [
  {
   "cell_type": "markdown",
   "id": "2b3a994c",
   "metadata": {},
   "source": [
    "# Assignment "
   ]
  },
  {
   "cell_type": "markdown",
   "id": "93e68ed5",
   "metadata": {},
   "source": [
    "## Q1. Explain Class and Object with respect to Object-Oriented Programming. Give a suitable example.\n",
    "## Answer:"
   ]
  },
  {
   "cell_type": "markdown",
   "id": "32010490",
   "metadata": {},
   "source": [
    "### CLASS\n",
    "* A class is a user-defined blueprint or prototype from which objects are created. \n",
    "* A class is like a blueprint for an object.\n",
    "* Classes are created by keyword class.\n",
    "* Attributes are the variables that belong to a class.\n",
    "* Attributes are always public and can be accessed using the dot (.) operator. \n",
    "    * Example: Myclass.Myattribute\n",
    "* Creating a new class creates a new type of object, allowing new instances of that type to be made. \n",
    "* Each class instance can have attributes attached to it for maintaining its state. \n",
    "* Class creates a user-defined data structure, which holds its own data members and member functions, which can be accessed and used by creating an instance of that class. \n",
    "\n",
    "### Syntax: Class Definition \n",
    "\n",
    "    class ClassName:\n",
    "        # Statement\n",
    "\n",
    "### OBJECT\n",
    "* An Object is an instance of a Class. A class is like a blueprint while an instance is a copy of the class with actual values.\n",
    "* An object consists of : \n",
    "    * State: It is represented by the attributes of an object. It also reflects the properties of an object.\n",
    "    * Behaviour: It is represented by the methods of an object. It also reflects the response of an object to other objects.\n",
    "    * Identity: It gives a unique name to an object and enables one object to interact with other objects.\n",
    "* When an object of a class is created, the class is said to be instantiated. All the instances share the attributes and the behavior of the class. But the values of those attributes, i.e. the state are unique for each object. \n",
    "* A single class may have any number of instances.\n",
    "\n",
    "### Syntax: Object Definition\n",
    "\n",
    "    obj = ClassName()\n",
    "    print(obj.atrr)\n"
   ]
  },
  {
   "cell_type": "code",
   "execution_count": 1,
   "id": "4f4baf15",
   "metadata": {},
   "outputs": [],
   "source": [
    "# Class for Dog\n",
    "class Dog:\n",
    "    # Class Variable\n",
    "    animal = 'Dog'\n",
    "    # The init method or constructor\n",
    "    def __init__(self, breed, color):\n",
    "        # Instance Variable\n",
    "        self.breed = breed\n",
    "        self.color = color"
   ]
  },
  {
   "cell_type": "code",
   "execution_count": 2,
   "id": "c03c7fc5",
   "metadata": {},
   "outputs": [
    {
     "name": "stdout",
     "output_type": "stream",
     "text": [
      "Rodger details:\n",
      "Rodger is a Dog\n",
      "Breed:  Pug\n",
      "Color:  brown\n",
      "Buzo details:\n",
      "Buzo is a Dog\n",
      "Breed:  Bulldog\n",
      "Color:  black\n",
      "Accessing class variable using class name : Dog\n"
     ]
    }
   ],
   "source": [
    "# Objects of Dog class\n",
    "Rodger = Dog(\"Pug\", \"brown\")\n",
    "Buzo = Dog(\"Bulldog\", \"black\")\n",
    " \n",
    "print('Rodger details:')\n",
    "print('Rodger is a', Rodger.animal)\n",
    "print('Breed: ', Rodger.breed)\n",
    "print('Color: ', Rodger.color)\n",
    " \n",
    "print('Buzo details:')\n",
    "print('Buzo is a', Buzo.animal)\n",
    "print('Breed: ', Buzo.breed)\n",
    "print('Color: ', Buzo.color)\n",
    "\n",
    "print(\"Accessing class variable using class name :\",Dog.animal)"
   ]
  },
  {
   "cell_type": "markdown",
   "id": "860641c1",
   "metadata": {},
   "source": [
    "................................................................................................................................"
   ]
  },
  {
   "cell_type": "markdown",
   "id": "f9b8f2a6",
   "metadata": {},
   "source": [
    "## Q2. Name the four pillars of OOPs.\n",
    "## Answer:"
   ]
  },
  {
   "cell_type": "markdown",
   "id": "baebe519",
   "metadata": {},
   "source": [
    "# Four Pillars of OOPs:\n",
    "    * Inheritance\n",
    "    * Polymorphism\n",
    "    * Encapsulation\n",
    "    * Abstraction \n",
    "    \n",
    "## Inheritance\n",
    "\n",
    "* Inheritance is the capability of one class to derive or inherit the properties from another class. \n",
    "* The class that derives properties is called the derived class or child class and the class from which the properties are being derived is called the base class or parent class. \n",
    "* The benefits of inheritance are:\n",
    "    * It represents real-world relationships well.\n",
    "    * It provides the reusability of a code. We don’t have to write the same code again and again.\n",
    "\n",
    "## Polymorphism\n",
    "\n",
    "* Polymorphism simply means having many forms. \n",
    "    * For example, we need to determine if the given species of birds fly or not, using polymorphism we can do this using a single function.\n",
    "\n",
    "## Encapsulation\n",
    "\n",
    "* Encapsulation is one of the fundamental concepts in object-oriented programming (OOP). \n",
    "* It describes the idea of wrapping data and the methods that work on data within one unit. This puts restrictions on accessing variables and methods directly and can prevent the accidental modification of data. \n",
    "* To prevent accidental change, an object’s variable can only be changed by an object’s method. Those types of variables are known as private variables.\n",
    "* A class is an example of encapsulation as it encapsulates all the data that is member functions, variables, etc.\n",
    "\n",
    "## Data Abstraction \n",
    "\n",
    "* It hides the unnecessary code details from the user. \n",
    "* Also,  when we do not want to give out sensitive parts of our code implementation and this is where data abstraction came.\n",
    "* Data Abstraction in Python can be achieved through creating abstract classes.\n"
   ]
  },
  {
   "cell_type": "markdown",
   "id": "4c038a19",
   "metadata": {},
   "source": [
    "................................................................................................................................"
   ]
  },
  {
   "cell_type": "markdown",
   "id": "c7c45531",
   "metadata": {},
   "source": [
    "## Q3. Explain why the __init__() function is used. Give a suitable example.\n",
    "## Answer:"
   ]
  },
  {
   "cell_type": "markdown",
   "id": "8de82460",
   "metadata": {},
   "source": [
    "## __init__ Function\n",
    "\n",
    "* The __init__ function is similar to constructors. Constructors are used to initialize the object’s state. \n",
    "* Like functions, a constructor also contains a collection of statements(i.e. instructions) that are executed at the time of Object creation. \n",
    "* It runs as soon as an object of a class is instantiated.\n",
    "\n",
    "### The function is useful to do any initialization you want to do with your object.\n"
   ]
  },
  {
   "cell_type": "code",
   "execution_count": 3,
   "id": "d6fef70f",
   "metadata": {},
   "outputs": [],
   "source": [
    "class Person:\n",
    " \n",
    "    # init method or constructor\n",
    "    def __init__(self, name):\n",
    "        self.name = name\n",
    " \n",
    "    # Sample Method\n",
    "    def say_hi(self):\n",
    "        print('Hello, my name is', self.name)\n",
    " "
   ]
  },
  {
   "cell_type": "code",
   "execution_count": 4,
   "id": "ab5f0142",
   "metadata": {},
   "outputs": [
    {
     "name": "stdout",
     "output_type": "stream",
     "text": [
      "Hello, my name is Nikhil\n"
     ]
    }
   ],
   "source": [
    "p = Person('Nikhil')\n",
    "p.say_hi()"
   ]
  },
  {
   "cell_type": "markdown",
   "id": "399c14eb",
   "metadata": {},
   "source": [
    "................................................................................................................................"
   ]
  },
  {
   "cell_type": "markdown",
   "id": "f2dd57ef",
   "metadata": {},
   "source": [
    "## Q4. Why self is used in OOPs?\n",
    "## Answer:"
   ]
  },
  {
   "cell_type": "markdown",
   "id": "d4fb594a",
   "metadata": {},
   "source": [
    "# self\n",
    "* Self is the first argument to be passed in Constructor and Instance Method.\n",
    "* Self is a convention and not a Python keyword .\n",
    "* Self is always pointing to Current Object.\n",
    "* self represents the instance of the class. \n",
    "### By using the “self”  we can access the attributes and methods of the class in python. It binds the attributes with the given arguments.\n",
    "\n",
    "#### The reason you need to use self. is because Python does not use the @ syntax to refer to instance attributes. Python decided to do methods in a way that makes the instance to which the method belongs be passed automatically, but not received automatically: the first parameter of methods is the instance the method is called on.\n"
   ]
  },
  {
   "cell_type": "markdown",
   "id": "1affbe2a",
   "metadata": {},
   "source": [
    "................................................................................................................................"
   ]
  },
  {
   "cell_type": "markdown",
   "id": "8ac3450a",
   "metadata": {},
   "source": [
    "## Q5. What is inheritance? Give an example for each type of inheritance.\n",
    "## Answer:"
   ]
  },
  {
   "cell_type": "markdown",
   "id": "db9d8acf",
   "metadata": {},
   "source": [
    "# Inheritance\n",
    "* Inheritance is the capability of one class to derive or inherit the properties from another class. \n",
    "* The class that derives properties is called the derived class or child class and the class from which the properties are being derived is called the base class or parent class. \n",
    "* The benefits of inheritance are:\n",
    "    * It represents real-world relationships well.\n",
    "    * It provides the reusability of a code. We don’t have to write the same code again and again.\n",
    "    * It is transitive in nature, which means that if class B inherits from another class A, then all the subclasses of B would automatically inherit from class A.\n",
    "\n",
    "# >Types of Inheritance\n",
    "\n",
    "## Single Inheritance:\n",
    "* Single-level inheritance enables a derived class to inherit characteristics from a single-parent class.\n",
    "\n",
    "## Multilevel Inheritance:\n",
    "* Multi-level inheritance enables a derived class to inherit properties from an immediate parent class which in turn inherits properties from his parent class.\n",
    "\n",
    "## Hierarchical Inheritance:\n",
    "* Hierarchical level inheritance enables more than one derived class to inherit properties from a parent class.\n",
    "\n",
    "## Multiple Inheritance:\n",
    "* Multiple level inheritance enables one derived class to inherit properties from more than one base class.\n"
   ]
  },
  {
   "cell_type": "markdown",
   "id": "2b39906a",
   "metadata": {},
   "source": [
    "................................................................................................................................"
   ]
  }
 ],
 "metadata": {
  "kernelspec": {
   "display_name": "Python 3 (ipykernel)",
   "language": "python",
   "name": "python3"
  },
  "language_info": {
   "codemirror_mode": {
    "name": "ipython",
    "version": 3
   },
   "file_extension": ".py",
   "mimetype": "text/x-python",
   "name": "python",
   "nbconvert_exporter": "python",
   "pygments_lexer": "ipython3",
   "version": "3.9.13"
  }
 },
 "nbformat": 4,
 "nbformat_minor": 5
}
